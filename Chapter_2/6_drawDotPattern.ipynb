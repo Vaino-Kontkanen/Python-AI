{
 "cells": [
  {
   "cell_type": "markdown",
   "id": "6459e050",
   "metadata": {},
   "source": [
    "Create a numpy table x that contains the values 1,2,3,4,5,6,7,8,9.\n",
    "Create another table y with the values -0.57, -2.57, -4.80, -7.36, -8.78, -10.52, -12.85, -14.69, -16.78.\n",
    "Draw the scattering pattern of the points (x, y). Use the + symbol to represent points."
   ]
  },
  {
   "cell_type": "code",
   "execution_count": 1,
   "id": "9da9c62d",
   "metadata": {},
   "outputs": [
    {
     "data": {
      "image/png": "[encoded data removed]",
      "text/plain": [
       "<Figure size 432x288 with 1 Axes>"
      ]
     },
     "metadata": {
      "needs_background": "light"
     },
     "output_type": "display_data"
    }
   ],
   "source": [
    "import numpy as np \n",
    "import matplotlib.pyplot as plt\n",
    "x = [1,2,3,4,5,6,7,8,9]\n",
    "y = [-0.57,-2.57,-4.80,-7.36,-8.78,-10.52,-12.85,-14.69,-16.78]\n",
    "plt.scatter(x,y)\n",
    "plt.show()"
   ]
  }
 ],
 "metadata": {
  "kernelspec": {
   "display_name": "Python 3",
   "language": "python",
   "name": "python3"
  },
  "language_info": {
   "codemirror_mode": {
    "name": "ipython",
    "version": 3
   },
   "file_extension": ".py",
   "mimetype": "text/x-python",
   "name": "python",
   "nbconvert_exporter": "python",
   "pygments_lexer": "ipython3",
   "version": "3.8.8"
  }
 },
 "nbformat": 4,
 "nbformat_minor": 5
}
