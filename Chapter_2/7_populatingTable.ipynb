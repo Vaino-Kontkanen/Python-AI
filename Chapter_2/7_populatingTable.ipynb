{
 "cells": [
  {
   "cell_type": "markdown",
   "id": "f9694e6d",
   "metadata": {},
   "source": [
    "Read from CSV-file weight-height.csv to numpy-table information about the lengths and weights \n",
    "(in inches and pounds) of a group of students. \n",
    "Collect the lengths for the variable \"length\" \n",
    "and the weights for the variable \"weight\" by cutting the table. \n",
    "Convert lengths from inches to centimeters and weights from pounds to kilograms. \n",
    "Finally, calculate the means, medians, standard deviations, \n",
    "and variances of the lengths and weights. \n",
    "Extra: Draw a histogram pattern of the lengths"
   ]
  },
  {
   "cell_type": "code",
   "execution_count": 1,
   "id": "7cff16ee",
   "metadata": {},
   "outputs": [],
   "source": [
    "import numpy as np\n",
    "import matplotlib.pyplot as plt"
   ]
  },
  {
   "cell_type": "code",
   "execution_count": 4,
   "id": "83445cb8",
   "metadata": {},
   "outputs": [
    {
     "data": {
      "text/html": [
       "<div>\n",
       "<style scoped>\n",
       "    .dataframe tbody tr th:only-of-type {\n",
       "        vertical-align: middle;\n",
       "    }\n",
       "\n",
       "    .dataframe tbody tr th {\n",
       "        vertical-align: top;\n",
       "    }\n",
       "\n",
       "    .dataframe thead th {\n",
       "        text-align: right;\n",
       "    }\n",
       "</style>\n",
       "<table border=\"1\" class=\"dataframe\">\n",
       "  <thead>\n",
       "    <tr style=\"text-align: right;\">\n",
       "      <th></th>\n",
       "      <th>Gender</th>\n",
       "      <th>Height</th>\n",
       "      <th>Weight</th>\n",
       "    </tr>\n",
       "  </thead>\n",
       "  <tbody>\n",
       "    <tr>\n",
       "      <th>0</th>\n",
       "      <td>Male</td>\n",
       "      <td>73.847017</td>\n",
       "      <td>241.893563</td>\n",
       "    </tr>\n",
       "    <tr>\n",
       "      <th>1</th>\n",
       "      <td>Male</td>\n",
       "      <td>68.781904</td>\n",
       "      <td>162.310473</td>\n",
       "    </tr>\n",
       "    <tr>\n",
       "      <th>2</th>\n",
       "      <td>Male</td>\n",
       "      <td>74.110105</td>\n",
       "      <td>212.740856</td>\n",
       "    </tr>\n",
       "    <tr>\n",
       "      <th>3</th>\n",
       "      <td>Male</td>\n",
       "      <td>71.730978</td>\n",
       "      <td>220.042470</td>\n",
       "    </tr>\n",
       "    <tr>\n",
       "      <th>4</th>\n",
       "      <td>Male</td>\n",
       "      <td>69.881796</td>\n",
       "      <td>206.349801</td>\n",
       "    </tr>\n",
       "  </tbody>\n",
       "</table>\n",
       "</div>"
      ],
      "text/plain": [
       "  Gender     Height      Weight\n",
       "0   Male  73.847017  241.893563\n",
       "1   Male  68.781904  162.310473\n",
       "2   Male  74.110105  212.740856\n",
       "3   Male  71.730978  220.042470\n",
       "4   Male  69.881796  206.349801"
      ]
     },
     "execution_count": 4,
     "metadata": {},
     "output_type": "execute_result"
    }
   ],
   "source": [
    "import pandas as pd\n",
    "file = \"/Users/kontkanenmacpro/Downloads/weight-height(1).csv\"\n",
    "sep = \",\"\n",
    "data = pd.read_csv(file,sep)\n",
    "data.head()"
   ]
  },
  {
   "cell_type": "code",
   "execution_count": 5,
   "id": "0940aa09",
   "metadata": {},
   "outputs": [
    {
     "data": {
      "text/plain": [
       "0       73.847017\n",
       "1       68.781904\n",
       "2       74.110105\n",
       "3       71.730978\n",
       "4       69.881796\n",
       "          ...    \n",
       "9995    66.172652\n",
       "9996    67.067155\n",
       "9997    63.867992\n",
       "9998    69.034243\n",
       "9999    61.944246\n",
       "Name: Height, Length: 10000, dtype: float64"
      ]
     },
     "execution_count": 5,
     "metadata": {},
     "output_type": "execute_result"
    }
   ],
   "source": [
    "data['Height']"
   ]
  },
  {
   "cell_type": "code",
   "execution_count": 6,
   "id": "67866abe",
   "metadata": {},
   "outputs": [
    {
     "data": {
      "text/plain": [
       "0       180.925192\n",
       "1       168.515665\n",
       "2       181.569758\n",
       "3       175.740897\n",
       "4       171.210400\n",
       "           ...    \n",
       "9995    162.122998\n",
       "9996    164.314529\n",
       "9997    156.476581\n",
       "9998    169.133896\n",
       "9999    151.763402\n",
       "Name: Height, Length: 10000, dtype: float64"
      ]
     },
     "execution_count": 6,
     "metadata": {},
     "output_type": "execute_result"
    }
   ],
   "source": [
    "HeightCM = data['Height']*2.45\n",
    "HeightCM"
   ]
  },
  {
   "cell_type": "code",
   "execution_count": 7,
   "id": "7c9fa8d0",
   "metadata": {},
   "outputs": [
    {
     "data": {
      "text/plain": [
       "0       109.702296\n",
       "1        73.610192\n",
       "2        96.481114\n",
       "3        99.792504\n",
       "4        93.582676\n",
       "           ...    \n",
       "9995     62.030591\n",
       "9996     77.491114\n",
       "9997     58.265451\n",
       "9998     74.309506\n",
       "9999     51.541543\n",
       "Name: Weight, Length: 10000, dtype: float64"
      ]
     },
     "execution_count": 7,
     "metadata": {},
     "output_type": "execute_result"
    }
   ],
   "source": [
    "WeightKG = data['Weight'] / 2.205\n",
    "WeightKG"
   ]
  },
  {
   "cell_type": "code",
   "execution_count": 8,
   "id": "1646f258",
   "metadata": {},
   "outputs": [
    {
     "data": {
      "text/plain": [
       "count    10000.000000\n",
       "mean       162.600521\n",
       "std          9.426444\n",
       "min        132.944677\n",
       "25%        155.588770\n",
       "50%        162.479272\n",
       "75%        169.476941\n",
       "max        193.546919\n",
       "Name: Height, dtype: float64"
      ]
     },
     "execution_count": 8,
     "metadata": {},
     "output_type": "execute_result"
    }
   ],
   "source": [
    "HeightCM.describe()"
   ]
  },
  {
   "cell_type": "code",
   "execution_count": 9,
   "id": "0147b724",
   "metadata": {},
   "outputs": [
    {
     "data": {
      "text/plain": [
       "count    10000.000000\n",
       "mean        73.215581\n",
       "std         14.561650\n",
       "min         29.342461\n",
       "25%         61.595488\n",
       "50%         73.112439\n",
       "75%         84.884138\n",
       "max        122.444308\n",
       "Name: Weight, dtype: float64"
      ]
     },
     "execution_count": 9,
     "metadata": {},
     "output_type": "execute_result"
    }
   ],
   "source": [
    "WeightKG.describe()"
   ]
  },
  {
   "cell_type": "code",
   "execution_count": 11,
   "id": "b7df4c5d",
   "metadata": {},
   "outputs": [
    {
     "data": {
      "image/png": "[encoded data removed]",
      "text/plain": [
       "<Figure size 432x288 with 1 Axes>"
      ]
     },
     "metadata": {
      "needs_background": "light"
     },
     "output_type": "display_data"
    }
   ],
   "source": [
    "plt.hist(HeightCM)\n",
    "plt.show()"
   ]
  }
 ],
 "metadata": {
  "kernelspec": {
   "display_name": "Python 3",
   "language": "python",
   "name": "python3"
  },
  "language_info": {
   "codemirror_mode": {
    "name": "ipython",
    "version": 3
   },
   "file_extension": ".py",
   "mimetype": "text/x-python",
   "name": "python",
   "nbconvert_exporter": "python",
   "pygments_lexer": "ipython3",
   "version": "3.8.8"
  }
 },
 "nbformat": 4,
 "nbformat_minor": 5
}
